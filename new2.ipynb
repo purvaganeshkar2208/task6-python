{
 "cells": [
  {
   "cell_type": "code",
   "execution_count": 9,
   "metadata": {},
   "outputs": [
    {
     "name": "stdout",
     "output_type": "stream",
     "text": [
      "{'user_id': 5, 'user_name': 'user7', 'user_age': 93, 'age_category': 'elder'}\n"
     ]
    }
   ],
   "source": [
    "def user_data(user_id , user_name , user_age):\n",
    "     if user_age > 40:\n",
    "         age_category = \"elder\"\n",
    "     elif user_age > 25:\n",
    "         age_category = \"adult\"\n",
    "     elif user_age >18:\n",
    "         age_category=\"teenage\"    \n",
    "     else:\n",
    "         age_category = \"kids\"\n",
    "\n",
    "     return {\"user_id\" : user_id , \"user_name\" : user_name , \"user_age\" : user_age , \"age_category\" : age_category }\n",
    "\n",
    "\n",
    "print(user_data(5, \"user7\" , 93))"
   ]
  }
 ],
 "metadata": {
  "kernelspec": {
   "display_name": "Python 3",
   "language": "python",
   "name": "python3"
  },
  "language_info": {
   "codemirror_mode": {
    "name": "ipython",
    "version": 3
   },
   "file_extension": ".py",
   "mimetype": "text/x-python",
   "name": "python",
   "nbconvert_exporter": "python",
   "pygments_lexer": "ipython3",
   "version": "3.12.5"
  }
 },
 "nbformat": 4,
 "nbformat_minor": 2
}
